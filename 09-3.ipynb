{
 "cells": [
  {
   "cell_type": "markdown",
   "source": [
    "기본 순환층은 시퀀스가 길수록 순환되는 은닉 상태에 담긴 정보가 점차 희석됨\n",
    "따라서 멀리 떨어진 정보를 인식하는데 어려움이 있음"
   ],
   "metadata": {
    "collapsed": false
   }
  },
  {
   "cell_type": "code",
   "execution_count": 1,
   "outputs": [],
   "source": [
    "from tensorflow.keras.datasets import imdb\n",
    "from sklearn.model_selection import train_test_split\n",
    "(train_input, train_target), (test_input, test_target) = imdb.load_data(num_words=500)"
   ],
   "metadata": {
    "collapsed": false
   }
  },
  {
   "cell_type": "code",
   "execution_count": 2,
   "outputs": [],
   "source": [
    "train_input, val_input, train_target, val_target = train_test_split(train_input, train_target, test_size=0.2, random_state=42)"
   ],
   "metadata": {
    "collapsed": false
   }
  },
  {
   "cell_type": "code",
   "execution_count": 3,
   "outputs": [],
   "source": [
    "from tensorflow.keras.preprocessing.sequence import pad_sequences\n",
    "train_seq = pad_sequences(train_input, maxlen=100)\n",
    "val_seq = pad_sequences(val_input, maxlen=100)"
   ],
   "metadata": {
    "collapsed": false
   }
  },
  {
   "cell_type": "code",
   "execution_count": 4,
   "outputs": [
    {
     "name": "stdout",
     "output_type": "stream",
     "text": [
      "Metal device set to: Apple M1\n"
     ]
    },
    {
     "name": "stderr",
     "output_type": "stream",
     "text": [
      "2023-02-02 11:54:07.708543: I tensorflow/core/common_runtime/pluggable_device/pluggable_device_factory.cc:306] Could not identify NUMA node of platform GPU ID 0, defaulting to 0. Your kernel may not have been built with NUMA support.\n",
      "2023-02-02 11:54:07.708699: I tensorflow/core/common_runtime/pluggable_device/pluggable_device_factory.cc:272] Created TensorFlow device (/job:localhost/replica:0/task:0/device:GPU:0 with 0 MB memory) -> physical PluggableDevice (device: 0, name: METAL, pci bus id: <undefined>)\n"
     ]
    }
   ],
   "source": [
    "from tensorflow import keras\n",
    "model = keras.Sequential()\n",
    "model.add(keras.layers.Embedding(500, 16, input_length=100))\n",
    "model.add(keras.layers.LSTM(8))\n",
    "model.add(keras.layers.Dense(1, activation='sigmoid'))"
   ],
   "metadata": {
    "collapsed": false
   }
  },
  {
   "cell_type": "code",
   "execution_count": 5,
   "outputs": [
    {
     "name": "stdout",
     "output_type": "stream",
     "text": [
      "Model: \"sequential\"\n",
      "_________________________________________________________________\n",
      " Layer (type)                Output Shape              Param #   \n",
      "=================================================================\n",
      " embedding (Embedding)       (None, 100, 16)           8000      \n",
      "                                                                 \n",
      " lstm (LSTM)                 (None, 8)                 800       \n",
      "                                                                 \n",
      " dense (Dense)               (None, 1)                 9         \n",
      "                                                                 \n",
      "=================================================================\n",
      "Total params: 8,809\n",
      "Trainable params: 8,809\n",
      "Non-trainable params: 0\n",
      "_________________________________________________________________\n"
     ]
    }
   ],
   "source": [
    "model.summary()"
   ],
   "metadata": {
    "collapsed": false
   }
  },
  {
   "cell_type": "code",
   "execution_count": 6,
   "outputs": [
    {
     "name": "stdout",
     "output_type": "stream",
     "text": [
      "Epoch 1/100\n"
     ]
    },
    {
     "name": "stderr",
     "output_type": "stream",
     "text": [
      "2023-02-02 11:55:42.587376: W tensorflow/core/platform/profile_utils/cpu_utils.cc:128] Failed to get CPU frequency: 0 Hz\n",
      "2023-02-02 11:55:43.043529: I tensorflow/core/grappler/optimizers/custom_graph_optimizer_registry.cc:114] Plugin optimizer for device_type GPU is enabled.\n",
      "2023-02-02 11:55:43.465132: I tensorflow/core/grappler/optimizers/custom_graph_optimizer_registry.cc:114] Plugin optimizer for device_type GPU is enabled.\n",
      "2023-02-02 11:55:45.313443: I tensorflow/core/grappler/optimizers/custom_graph_optimizer_registry.cc:114] Plugin optimizer for device_type GPU is enabled.\n"
     ]
    },
    {
     "name": "stdout",
     "output_type": "stream",
     "text": [
      "313/313 [==============================] - ETA: 0s - loss: 0.6926 - accuracy: 0.5346"
     ]
    },
    {
     "name": "stderr",
     "output_type": "stream",
     "text": [
      "2023-02-02 11:55:57.866549: I tensorflow/core/grappler/optimizers/custom_graph_optimizer_registry.cc:114] Plugin optimizer for device_type GPU is enabled.\n",
      "2023-02-02 11:55:57.910845: I tensorflow/core/grappler/optimizers/custom_graph_optimizer_registry.cc:114] Plugin optimizer for device_type GPU is enabled.\n"
     ]
    },
    {
     "name": "stdout",
     "output_type": "stream",
     "text": [
      "313/313 [==============================] - 17s 42ms/step - loss: 0.6926 - accuracy: 0.5346 - val_loss: 0.6918 - val_accuracy: 0.5918\n",
      "Epoch 2/100\n",
      "313/313 [==============================] - 12s 37ms/step - loss: 0.6906 - accuracy: 0.6049 - val_loss: 0.6893 - val_accuracy: 0.6334\n",
      "Epoch 3/100\n",
      "313/313 [==============================] - 12s 37ms/step - loss: 0.6866 - accuracy: 0.6491 - val_loss: 0.6834 - val_accuracy: 0.6558\n",
      "Epoch 4/100\n",
      "313/313 [==============================] - 12s 37ms/step - loss: 0.6763 - accuracy: 0.6701 - val_loss: 0.6655 - val_accuracy: 0.6772\n",
      "Epoch 5/100\n",
      "313/313 [==============================] - 12s 37ms/step - loss: 0.6325 - accuracy: 0.7047 - val_loss: 0.5965 - val_accuracy: 0.7268\n",
      "Epoch 6/100\n",
      "313/313 [==============================] - 12s 37ms/step - loss: 0.5818 - accuracy: 0.7416 - val_loss: 0.5754 - val_accuracy: 0.7328\n",
      "Epoch 7/100\n",
      "313/313 [==============================] - 12s 37ms/step - loss: 0.5584 - accuracy: 0.7523 - val_loss: 0.5537 - val_accuracy: 0.7470\n",
      "Epoch 8/100\n",
      "313/313 [==============================] - 12s 37ms/step - loss: 0.5369 - accuracy: 0.7634 - val_loss: 0.5340 - val_accuracy: 0.7534\n",
      "Epoch 9/100\n",
      "313/313 [==============================] - 11s 35ms/step - loss: 0.5166 - accuracy: 0.7731 - val_loss: 0.5189 - val_accuracy: 0.7606\n",
      "Epoch 10/100\n",
      "313/313 [==============================] - 11s 35ms/step - loss: 0.5005 - accuracy: 0.7797 - val_loss: 0.5042 - val_accuracy: 0.7670\n",
      "Epoch 11/100\n",
      "313/313 [==============================] - 11s 35ms/step - loss: 0.4876 - accuracy: 0.7852 - val_loss: 0.4959 - val_accuracy: 0.7728\n",
      "Epoch 12/100\n",
      "313/313 [==============================] - 11s 36ms/step - loss: 0.4770 - accuracy: 0.7904 - val_loss: 0.4878 - val_accuracy: 0.7770\n",
      "Epoch 13/100\n",
      "313/313 [==============================] - 11s 35ms/step - loss: 0.4691 - accuracy: 0.7942 - val_loss: 0.4822 - val_accuracy: 0.7772\n",
      "Epoch 14/100\n",
      "313/313 [==============================] - 11s 35ms/step - loss: 0.4621 - accuracy: 0.7959 - val_loss: 0.4756 - val_accuracy: 0.7856\n",
      "Epoch 15/100\n",
      "313/313 [==============================] - 11s 35ms/step - loss: 0.4562 - accuracy: 0.8012 - val_loss: 0.4730 - val_accuracy: 0.7810\n",
      "Epoch 16/100\n",
      "313/313 [==============================] - 11s 35ms/step - loss: 0.4513 - accuracy: 0.8017 - val_loss: 0.4681 - val_accuracy: 0.7820\n",
      "Epoch 17/100\n",
      "313/313 [==============================] - 11s 36ms/step - loss: 0.4470 - accuracy: 0.8034 - val_loss: 0.4646 - val_accuracy: 0.7854\n",
      "Epoch 18/100\n",
      "313/313 [==============================] - 11s 36ms/step - loss: 0.4430 - accuracy: 0.8031 - val_loss: 0.4650 - val_accuracy: 0.7832\n",
      "Epoch 19/100\n",
      "313/313 [==============================] - 11s 36ms/step - loss: 0.4389 - accuracy: 0.8066 - val_loss: 0.4598 - val_accuracy: 0.7854\n",
      "Epoch 20/100\n",
      "313/313 [==============================] - 11s 36ms/step - loss: 0.4361 - accuracy: 0.8085 - val_loss: 0.4583 - val_accuracy: 0.7884\n",
      "Epoch 21/100\n",
      "313/313 [==============================] - 11s 36ms/step - loss: 0.4333 - accuracy: 0.8103 - val_loss: 0.4555 - val_accuracy: 0.7890\n",
      "Epoch 22/100\n",
      "313/313 [==============================] - 11s 36ms/step - loss: 0.4313 - accuracy: 0.8109 - val_loss: 0.4558 - val_accuracy: 0.7854\n",
      "Epoch 23/100\n",
      "313/313 [==============================] - 11s 36ms/step - loss: 0.4285 - accuracy: 0.8127 - val_loss: 0.4552 - val_accuracy: 0.7876\n",
      "Epoch 24/100\n",
      "313/313 [==============================] - 11s 36ms/step - loss: 0.4268 - accuracy: 0.8112 - val_loss: 0.4514 - val_accuracy: 0.7906\n",
      "Epoch 25/100\n",
      "313/313 [==============================] - 11s 36ms/step - loss: 0.4249 - accuracy: 0.8119 - val_loss: 0.4511 - val_accuracy: 0.7890\n",
      "Epoch 26/100\n",
      "313/313 [==============================] - 11s 36ms/step - loss: 0.4230 - accuracy: 0.8140 - val_loss: 0.4518 - val_accuracy: 0.7890\n",
      "Epoch 27/100\n",
      "313/313 [==============================] - 11s 36ms/step - loss: 0.4214 - accuracy: 0.8139 - val_loss: 0.4498 - val_accuracy: 0.7902\n",
      "Epoch 28/100\n",
      "313/313 [==============================] - 11s 36ms/step - loss: 0.4200 - accuracy: 0.8142 - val_loss: 0.4468 - val_accuracy: 0.7914\n",
      "Epoch 29/100\n",
      "313/313 [==============================] - 11s 36ms/step - loss: 0.4184 - accuracy: 0.8142 - val_loss: 0.4481 - val_accuracy: 0.7902\n",
      "Epoch 30/100\n",
      "313/313 [==============================] - 11s 36ms/step - loss: 0.4171 - accuracy: 0.8157 - val_loss: 0.4475 - val_accuracy: 0.7922\n",
      "Epoch 31/100\n",
      "313/313 [==============================] - 11s 36ms/step - loss: 0.4161 - accuracy: 0.8169 - val_loss: 0.4456 - val_accuracy: 0.7920\n",
      "Epoch 32/100\n",
      "313/313 [==============================] - 11s 36ms/step - loss: 0.4142 - accuracy: 0.8174 - val_loss: 0.4441 - val_accuracy: 0.7962\n",
      "Epoch 33/100\n",
      "313/313 [==============================] - 11s 36ms/step - loss: 0.4135 - accuracy: 0.8171 - val_loss: 0.4421 - val_accuracy: 0.7938\n",
      "Epoch 34/100\n",
      "313/313 [==============================] - 11s 37ms/step - loss: 0.4125 - accuracy: 0.8177 - val_loss: 0.4415 - val_accuracy: 0.7958\n",
      "Epoch 35/100\n",
      "313/313 [==============================] - 11s 36ms/step - loss: 0.4113 - accuracy: 0.8186 - val_loss: 0.4415 - val_accuracy: 0.7898\n",
      "Epoch 36/100\n",
      "313/313 [==============================] - 11s 36ms/step - loss: 0.4108 - accuracy: 0.8183 - val_loss: 0.4387 - val_accuracy: 0.7984\n",
      "Epoch 37/100\n",
      "313/313 [==============================] - 11s 36ms/step - loss: 0.4094 - accuracy: 0.8181 - val_loss: 0.4392 - val_accuracy: 0.7926\n",
      "Epoch 38/100\n",
      "313/313 [==============================] - 11s 36ms/step - loss: 0.4087 - accuracy: 0.8178 - val_loss: 0.4380 - val_accuracy: 0.7996\n",
      "Epoch 39/100\n",
      "313/313 [==============================] - 11s 36ms/step - loss: 0.4074 - accuracy: 0.8188 - val_loss: 0.4395 - val_accuracy: 0.7942\n",
      "Epoch 40/100\n",
      "313/313 [==============================] - 11s 36ms/step - loss: 0.4067 - accuracy: 0.8212 - val_loss: 0.4371 - val_accuracy: 0.7952\n",
      "Epoch 41/100\n",
      "313/313 [==============================] - 11s 36ms/step - loss: 0.4058 - accuracy: 0.8202 - val_loss: 0.4371 - val_accuracy: 0.8014\n",
      "Epoch 42/100\n",
      "313/313 [==============================] - 11s 36ms/step - loss: 0.4046 - accuracy: 0.8189 - val_loss: 0.4363 - val_accuracy: 0.8020\n",
      "Epoch 43/100\n",
      "313/313 [==============================] - 11s 36ms/step - loss: 0.4036 - accuracy: 0.8216 - val_loss: 0.4348 - val_accuracy: 0.7986\n",
      "Epoch 44/100\n",
      "313/313 [==============================] - 11s 37ms/step - loss: 0.4033 - accuracy: 0.8187 - val_loss: 0.4334 - val_accuracy: 0.7986\n",
      "Epoch 45/100\n",
      "313/313 [==============================] - 11s 36ms/step - loss: 0.4022 - accuracy: 0.8198 - val_loss: 0.4355 - val_accuracy: 0.7974\n",
      "Epoch 46/100\n",
      "313/313 [==============================] - 11s 37ms/step - loss: 0.4018 - accuracy: 0.8204 - val_loss: 0.4338 - val_accuracy: 0.7948\n",
      "Epoch 47/100\n",
      "313/313 [==============================] - 12s 37ms/step - loss: 0.4005 - accuracy: 0.8205 - val_loss: 0.4332 - val_accuracy: 0.7982\n",
      "Epoch 48/100\n",
      "313/313 [==============================] - 12s 37ms/step - loss: 0.4002 - accuracy: 0.8215 - val_loss: 0.4341 - val_accuracy: 0.7976\n",
      "Epoch 49/100\n",
      "313/313 [==============================] - 11s 37ms/step - loss: 0.3993 - accuracy: 0.8222 - val_loss: 0.4327 - val_accuracy: 0.7982\n",
      "Epoch 50/100\n",
      "313/313 [==============================] - 12s 37ms/step - loss: 0.3985 - accuracy: 0.8217 - val_loss: 0.4313 - val_accuracy: 0.7974\n",
      "Epoch 51/100\n",
      "313/313 [==============================] - 12s 37ms/step - loss: 0.3976 - accuracy: 0.8224 - val_loss: 0.4335 - val_accuracy: 0.7958\n",
      "Epoch 52/100\n",
      "313/313 [==============================] - 12s 37ms/step - loss: 0.3966 - accuracy: 0.8221 - val_loss: 0.4361 - val_accuracy: 0.7996\n",
      "Epoch 53/100\n",
      "313/313 [==============================] - 11s 36ms/step - loss: 0.3961 - accuracy: 0.8230 - val_loss: 0.4347 - val_accuracy: 0.8006\n"
     ]
    }
   ],
   "source": [
    "rmsprop = keras.optimizers.RMSprop(learning_rate=1e-4)\n",
    "model.compile(optimizer=rmsprop, loss='binary_crossentropy', metrics=['accuracy'])\n",
    "checkpoint_cb = keras.callbacks.ModelCheckpoint('best-lstm-model.h5', save_best_only=True)\n",
    "early_stopping_cb = keras.callbacks.EarlyStopping(patience=3, restore_best_weights=True)\n",
    "history = model.fit(train_seq, train_target, epochs=100, batch_size=64, validation_data=(val_seq, val_target), callbacks=[checkpoint_cb, early_stopping_cb])"
   ],
   "metadata": {
    "collapsed": false
   }
  },
  {
   "cell_type": "code",
   "execution_count": 7,
   "outputs": [
    {
     "data": {
      "text/plain": "<Figure size 640x480 with 1 Axes>",
      "image/png": "[encoded data removed]"
     },
     "metadata": {},
     "output_type": "display_data"
    }
   ],
   "source": [
    "import matplotlib.pyplot as plt\n",
    "plt.plot(history.history['loss'])\n",
    "plt.plot(history.history['val_loss'])\n",
    "plt.xlabel('epoch')\n",
    "plt.ylabel('loss')\n",
    "plt.legend(['train', 'val'])\n",
    "plt.show()"
   ],
   "metadata": {
    "collapsed": false
   }
  },
  {
   "cell_type": "code",
   "execution_count": 8,
   "outputs": [],
   "source": [
    "model2 = keras.Sequential()\n",
    "model2.add(keras.layers.Embedding(500, 16, input_length=100))\n",
    "model2.add(keras.layers.LSTM(8, dropout=0.3))\n",
    "model2.add(keras.layers.Dense(1, activation='sigmoid'))"
   ],
   "metadata": {
    "collapsed": false
   }
  },
  {
   "cell_type": "code",
   "execution_count": 9,
   "outputs": [
    {
     "name": "stdout",
     "output_type": "stream",
     "text": [
      "Model: \"sequential\"\n",
      "_________________________________________________________________\n",
      " Layer (type)                Output Shape              Param #   \n",
      "=================================================================\n",
      " embedding (Embedding)       (None, 100, 16)           8000      \n",
      "                                                                 \n",
      " lstm (LSTM)                 (None, 8)                 800       \n",
      "                                                                 \n",
      " dense (Dense)               (None, 1)                 9         \n",
      "                                                                 \n",
      "=================================================================\n",
      "Total params: 8,809\n",
      "Trainable params: 8,809\n",
      "Non-trainable params: 0\n",
      "_________________________________________________________________\n",
      "Epoch 1/100\n"
     ]
    },
    {
     "name": "stderr",
     "output_type": "stream",
     "text": [
      "2023-02-02 12:19:35.757885: I tensorflow/core/grappler/optimizers/custom_graph_optimizer_registry.cc:114] Plugin optimizer for device_type GPU is enabled.\n",
      "2023-02-02 12:19:36.082800: I tensorflow/core/grappler/optimizers/custom_graph_optimizer_registry.cc:114] Plugin optimizer for device_type GPU is enabled.\n",
      "2023-02-02 12:19:36.315512: I tensorflow/core/grappler/optimizers/custom_graph_optimizer_registry.cc:114] Plugin optimizer for device_type GPU is enabled.\n"
     ]
    },
    {
     "name": "stdout",
     "output_type": "stream",
     "text": [
      "313/313 [==============================] - ETA: 0s - loss: 0.6925 - accuracy: 0.5299"
     ]
    },
    {
     "name": "stderr",
     "output_type": "stream",
     "text": [
      "2023-02-02 12:19:48.017623: I tensorflow/core/grappler/optimizers/custom_graph_optimizer_registry.cc:114] Plugin optimizer for device_type GPU is enabled.\n",
      "2023-02-02 12:19:48.066472: I tensorflow/core/grappler/optimizers/custom_graph_optimizer_registry.cc:114] Plugin optimizer for device_type GPU is enabled.\n"
     ]
    },
    {
     "name": "stdout",
     "output_type": "stream",
     "text": [
      "313/313 [==============================] - 14s 41ms/step - loss: 0.6925 - accuracy: 0.5299 - val_loss: 0.6913 - val_accuracy: 0.5736\n",
      "Epoch 2/100\n",
      "313/313 [==============================] - 12s 37ms/step - loss: 0.6898 - accuracy: 0.5929 - val_loss: 0.6875 - val_accuracy: 0.6332\n",
      "Epoch 3/100\n",
      "313/313 [==============================] - 12s 37ms/step - loss: 0.6800 - accuracy: 0.6329 - val_loss: 0.6659 - val_accuracy: 0.6310\n",
      "Epoch 4/100\n",
      "313/313 [==============================] - 12s 38ms/step - loss: 0.6298 - accuracy: 0.6865 - val_loss: 0.6088 - val_accuracy: 0.7080\n",
      "Epoch 5/100\n",
      "313/313 [==============================] - 11s 36ms/step - loss: 0.5917 - accuracy: 0.7236 - val_loss: 0.5806 - val_accuracy: 0.7364\n",
      "Epoch 6/100\n",
      "313/313 [==============================] - 12s 40ms/step - loss: 0.5680 - accuracy: 0.7434 - val_loss: 0.5611 - val_accuracy: 0.7374\n",
      "Epoch 7/100\n",
      "313/313 [==============================] - 12s 37ms/step - loss: 0.5438 - accuracy: 0.7594 - val_loss: 0.5368 - val_accuracy: 0.7590\n",
      "Epoch 8/100\n",
      "313/313 [==============================] - 11s 37ms/step - loss: 0.5258 - accuracy: 0.7686 - val_loss: 0.5169 - val_accuracy: 0.7676\n",
      "Epoch 9/100\n",
      "313/313 [==============================] - 11s 37ms/step - loss: 0.5086 - accuracy: 0.7721 - val_loss: 0.5012 - val_accuracy: 0.7738\n",
      "Epoch 10/100\n",
      "313/313 [==============================] - 11s 36ms/step - loss: 0.4947 - accuracy: 0.7793 - val_loss: 0.5012 - val_accuracy: 0.7674\n",
      "Epoch 11/100\n",
      "313/313 [==============================] - 11s 36ms/step - loss: 0.4802 - accuracy: 0.7839 - val_loss: 0.4840 - val_accuracy: 0.7800\n",
      "Epoch 12/100\n",
      "313/313 [==============================] - 11s 36ms/step - loss: 0.4723 - accuracy: 0.7873 - val_loss: 0.4706 - val_accuracy: 0.7842\n",
      "Epoch 13/100\n",
      "313/313 [==============================] - 11s 36ms/step - loss: 0.4644 - accuracy: 0.7900 - val_loss: 0.4634 - val_accuracy: 0.7942\n",
      "Epoch 14/100\n",
      "313/313 [==============================] - 11s 36ms/step - loss: 0.4591 - accuracy: 0.7931 - val_loss: 0.4679 - val_accuracy: 0.7834\n",
      "Epoch 15/100\n",
      "313/313 [==============================] - 11s 36ms/step - loss: 0.4545 - accuracy: 0.7946 - val_loss: 0.4558 - val_accuracy: 0.7910\n",
      "Epoch 16/100\n",
      "313/313 [==============================] - 11s 36ms/step - loss: 0.4501 - accuracy: 0.7967 - val_loss: 0.4543 - val_accuracy: 0.7948\n",
      "Epoch 17/100\n",
      "313/313 [==============================] - 11s 36ms/step - loss: 0.4461 - accuracy: 0.7986 - val_loss: 0.4509 - val_accuracy: 0.7936\n",
      "Epoch 18/100\n",
      "313/313 [==============================] - 11s 36ms/step - loss: 0.4412 - accuracy: 0.7999 - val_loss: 0.4518 - val_accuracy: 0.7964\n",
      "Epoch 19/100\n",
      "313/313 [==============================] - 11s 37ms/step - loss: 0.4405 - accuracy: 0.7993 - val_loss: 0.4497 - val_accuracy: 0.7912\n",
      "Epoch 20/100\n",
      "313/313 [==============================] - 11s 37ms/step - loss: 0.4366 - accuracy: 0.8015 - val_loss: 0.4453 - val_accuracy: 0.7958\n",
      "Epoch 21/100\n",
      "313/313 [==============================] - 11s 36ms/step - loss: 0.4357 - accuracy: 0.8012 - val_loss: 0.4423 - val_accuracy: 0.7958\n",
      "Epoch 22/100\n",
      "313/313 [==============================] - 11s 36ms/step - loss: 0.4330 - accuracy: 0.8045 - val_loss: 0.4443 - val_accuracy: 0.7986\n",
      "Epoch 23/100\n",
      "313/313 [==============================] - 11s 36ms/step - loss: 0.4309 - accuracy: 0.8058 - val_loss: 0.4457 - val_accuracy: 0.7998\n",
      "Epoch 24/100\n",
      "313/313 [==============================] - 11s 36ms/step - loss: 0.4297 - accuracy: 0.8058 - val_loss: 0.4409 - val_accuracy: 0.7942\n",
      "Epoch 25/100\n",
      "313/313 [==============================] - 11s 36ms/step - loss: 0.4271 - accuracy: 0.8079 - val_loss: 0.4445 - val_accuracy: 0.7930\n",
      "Epoch 26/100\n",
      "313/313 [==============================] - 11s 36ms/step - loss: 0.4259 - accuracy: 0.8081 - val_loss: 0.4369 - val_accuracy: 0.7962\n",
      "Epoch 27/100\n",
      "313/313 [==============================] - 11s 37ms/step - loss: 0.4254 - accuracy: 0.8070 - val_loss: 0.4369 - val_accuracy: 0.8022\n",
      "Epoch 28/100\n",
      "313/313 [==============================] - 12s 37ms/step - loss: 0.4224 - accuracy: 0.8076 - val_loss: 0.4364 - val_accuracy: 0.7982\n",
      "Epoch 29/100\n",
      "313/313 [==============================] - 12s 37ms/step - loss: 0.4232 - accuracy: 0.8102 - val_loss: 0.4361 - val_accuracy: 0.7970\n",
      "Epoch 30/100\n",
      "313/313 [==============================] - 11s 37ms/step - loss: 0.4202 - accuracy: 0.8101 - val_loss: 0.4336 - val_accuracy: 0.7986\n",
      "Epoch 31/100\n",
      "313/313 [==============================] - 11s 37ms/step - loss: 0.4198 - accuracy: 0.8094 - val_loss: 0.4341 - val_accuracy: 0.7996\n",
      "Epoch 32/100\n",
      "313/313 [==============================] - 12s 37ms/step - loss: 0.4185 - accuracy: 0.8131 - val_loss: 0.4328 - val_accuracy: 0.7998\n",
      "Epoch 33/100\n",
      "313/313 [==============================] - 12s 37ms/step - loss: 0.4186 - accuracy: 0.8098 - val_loss: 0.4320 - val_accuracy: 0.8026\n",
      "Epoch 34/100\n",
      "313/313 [==============================] - 12s 37ms/step - loss: 0.4169 - accuracy: 0.8113 - val_loss: 0.4316 - val_accuracy: 0.8026\n",
      "Epoch 35/100\n",
      "313/313 [==============================] - 12s 37ms/step - loss: 0.4164 - accuracy: 0.8110 - val_loss: 0.4334 - val_accuracy: 0.8008\n",
      "Epoch 36/100\n",
      "313/313 [==============================] - 11s 37ms/step - loss: 0.4147 - accuracy: 0.8139 - val_loss: 0.4331 - val_accuracy: 0.8044\n",
      "Epoch 37/100\n",
      "313/313 [==============================] - 12s 37ms/step - loss: 0.4158 - accuracy: 0.8110 - val_loss: 0.4303 - val_accuracy: 0.8030\n",
      "Epoch 38/100\n",
      "313/313 [==============================] - 12s 37ms/step - loss: 0.4143 - accuracy: 0.8141 - val_loss: 0.4298 - val_accuracy: 0.8038\n",
      "Epoch 39/100\n",
      "313/313 [==============================] - 12s 37ms/step - loss: 0.4140 - accuracy: 0.8126 - val_loss: 0.4358 - val_accuracy: 0.7952\n",
      "Epoch 40/100\n",
      "313/313 [==============================] - 12s 37ms/step - loss: 0.4133 - accuracy: 0.8122 - val_loss: 0.4298 - val_accuracy: 0.8002\n",
      "Epoch 41/100\n",
      "313/313 [==============================] - 12s 37ms/step - loss: 0.4127 - accuracy: 0.8134 - val_loss: 0.4281 - val_accuracy: 0.8034\n",
      "Epoch 42/100\n",
      "313/313 [==============================] - 12s 37ms/step - loss: 0.4103 - accuracy: 0.8136 - val_loss: 0.4295 - val_accuracy: 0.8016\n",
      "Epoch 43/100\n",
      "313/313 [==============================] - 12s 37ms/step - loss: 0.4103 - accuracy: 0.8135 - val_loss: 0.4391 - val_accuracy: 0.7934\n",
      "Epoch 44/100\n",
      "313/313 [==============================] - 12s 37ms/step - loss: 0.4102 - accuracy: 0.8146 - val_loss: 0.4307 - val_accuracy: 0.8058\n"
     ]
    }
   ],
   "source": [
    "rmsprop = keras.optimizers.RMSprop(learning_rate=1e-4)\n",
    "model2.compile(optimizer=rmsprop, loss='binary_crossentropy', metrics=['accuracy'])\n",
    "checkpoint_cb = keras.callbacks.ModelCheckpoint('best-dropout-model.h5', save_best_only=True)\n",
    "early_stopping_cb = keras.callbacks.EarlyStopping(patience=3, restore_best_weights=True)\n",
    "history = model2.fit(train_seq, train_target, epochs=100, batch_size=64, validation_data=(val_seq, val_target),\n",
    "                    callbacks=[checkpoint_cb, early_stopping_cb])"
   ],
   "metadata": {
    "collapsed": false
   }
  },
  {
   "cell_type": "code",
   "execution_count": 10,
   "outputs": [
    {
     "data": {
      "text/plain": "<Figure size 640x480 with 1 Axes>",
      "image/png": "[encoded data removed]"
     },
     "metadata": {},
     "output_type": "display_data"
    }
   ],
   "source": [
    "plt.plot(history.history['loss'])\n",
    "plt.plot(history.history['val_loss'])\n",
    "plt.xlabel('epoch')\n",
    "plt.ylabel('loss')\n",
    "plt.legend(['train', 'val'])\n",
    "plt.show()"
   ],
   "metadata": {
    "collapsed": false
   }
  },
  {
   "cell_type": "code",
   "execution_count": 11,
   "outputs": [],
   "source": [
    "model3 = keras.Sequential()\n",
    "model3.add(keras.layers.Embedding(500, 16, input_length=100))\n",
    "model3.add(keras.layers.LSTM(8, dropout=0.3, return_sequences=True))\n",
    "model3.add(keras.layers.LSTM(8, dropout=0.3))\n",
    "model3.add(keras.layers.Dense(1, activation='sigmoid'))"
   ],
   "metadata": {
    "collapsed": false
   }
  },
  {
   "cell_type": "code",
   "execution_count": 12,
   "outputs": [
    {
     "name": "stdout",
     "output_type": "stream",
     "text": [
      "Model: \"sequential_2\"\n",
      "_________________________________________________________________\n",
      " Layer (type)                Output Shape              Param #   \n",
      "=================================================================\n",
      " embedding_2 (Embedding)     (None, 100, 16)           8000      \n",
      "                                                                 \n",
      " lstm_2 (LSTM)               (None, 100, 8)            800       \n",
      "                                                                 \n",
      " lstm_3 (LSTM)               (None, 8)                 544       \n",
      "                                                                 \n",
      " dense_2 (Dense)             (None, 1)                 9         \n",
      "                                                                 \n",
      "=================================================================\n",
      "Total params: 9,353\n",
      "Trainable params: 9,353\n",
      "Non-trainable params: 0\n",
      "_________________________________________________________________\n"
     ]
    }
   ],
   "source": [
    "model3.summary()"
   ],
   "metadata": {
    "collapsed": false
   }
  },
  {
   "cell_type": "code",
   "execution_count": 14,
   "outputs": [
    {
     "name": "stdout",
     "output_type": "stream",
     "text": [
      "Epoch 1/100\n"
     ]
    },
    {
     "name": "stderr",
     "output_type": "stream",
     "text": [
      "2023-02-02 14:44:40.890004: I tensorflow/core/grappler/optimizers/custom_graph_optimizer_registry.cc:114] Plugin optimizer for device_type GPU is enabled.\n",
      "2023-02-02 14:44:41.107783: I tensorflow/core/grappler/optimizers/custom_graph_optimizer_registry.cc:114] Plugin optimizer for device_type GPU is enabled.\n",
      "2023-02-02 14:44:41.298478: I tensorflow/core/grappler/optimizers/custom_graph_optimizer_registry.cc:114] Plugin optimizer for device_type GPU is enabled.\n",
      "2023-02-02 14:44:41.622414: I tensorflow/core/grappler/optimizers/custom_graph_optimizer_registry.cc:114] Plugin optimizer for device_type GPU is enabled.\n",
      "2023-02-02 14:44:42.000618: I tensorflow/core/grappler/optimizers/custom_graph_optimizer_registry.cc:114] Plugin optimizer for device_type GPU is enabled.\n"
     ]
    },
    {
     "name": "stdout",
     "output_type": "stream",
     "text": [
      "313/313 [==============================] - ETA: 0s - loss: 0.6924 - accuracy: 0.5366"
     ]
    },
    {
     "name": "stderr",
     "output_type": "stream",
     "text": [
      "2023-02-02 14:45:01.544575: I tensorflow/core/grappler/optimizers/custom_graph_optimizer_registry.cc:114] Plugin optimizer for device_type GPU is enabled.\n",
      "2023-02-02 14:45:01.613135: I tensorflow/core/grappler/optimizers/custom_graph_optimizer_registry.cc:114] Plugin optimizer for device_type GPU is enabled.\n",
      "2023-02-02 14:45:01.786335: I tensorflow/core/grappler/optimizers/custom_graph_optimizer_registry.cc:114] Plugin optimizer for device_type GPU is enabled.\n"
     ]
    },
    {
     "name": "stdout",
     "output_type": "stream",
     "text": [
      "313/313 [==============================] - 24s 70ms/step - loss: 0.6924 - accuracy: 0.5366 - val_loss: 0.6916 - val_accuracy: 0.5468\n",
      "Epoch 2/100\n",
      "313/313 [==============================] - 19s 60ms/step - loss: 0.6889 - accuracy: 0.5904 - val_loss: 0.6854 - val_accuracy: 0.6380\n",
      "Epoch 3/100\n",
      "313/313 [==============================] - 18s 58ms/step - loss: 0.6740 - accuracy: 0.6531 - val_loss: 0.6572 - val_accuracy: 0.6662\n",
      "Epoch 4/100\n",
      "313/313 [==============================] - 18s 59ms/step - loss: 0.6082 - accuracy: 0.6933 - val_loss: 0.5641 - val_accuracy: 0.7134\n",
      "Epoch 5/100\n",
      "313/313 [==============================] - 18s 58ms/step - loss: 0.5417 - accuracy: 0.7340 - val_loss: 0.5229 - val_accuracy: 0.7396\n",
      "Epoch 6/100\n",
      "313/313 [==============================] - 18s 59ms/step - loss: 0.5144 - accuracy: 0.7512 - val_loss: 0.5004 - val_accuracy: 0.7576\n",
      "Epoch 7/100\n",
      "313/313 [==============================] - 19s 59ms/step - loss: 0.4964 - accuracy: 0.7626 - val_loss: 0.4867 - val_accuracy: 0.7702\n",
      "Epoch 8/100\n",
      "313/313 [==============================] - 19s 59ms/step - loss: 0.4850 - accuracy: 0.7716 - val_loss: 0.4750 - val_accuracy: 0.7746\n",
      "Epoch 9/100\n",
      "313/313 [==============================] - 19s 60ms/step - loss: 0.4734 - accuracy: 0.7768 - val_loss: 0.4677 - val_accuracy: 0.7820\n",
      "Epoch 10/100\n",
      "313/313 [==============================] - 19s 60ms/step - loss: 0.4664 - accuracy: 0.7829 - val_loss: 0.4685 - val_accuracy: 0.7784\n",
      "Epoch 11/100\n",
      "313/313 [==============================] - 19s 60ms/step - loss: 0.4622 - accuracy: 0.7862 - val_loss: 0.4589 - val_accuracy: 0.7852\n",
      "Epoch 12/100\n",
      "313/313 [==============================] - 20s 63ms/step - loss: 0.4566 - accuracy: 0.7892 - val_loss: 0.4569 - val_accuracy: 0.7904\n",
      "Epoch 13/100\n",
      "313/313 [==============================] - 20s 63ms/step - loss: 0.4544 - accuracy: 0.7900 - val_loss: 0.4534 - val_accuracy: 0.7892\n",
      "Epoch 14/100\n",
      "313/313 [==============================] - 20s 63ms/step - loss: 0.4506 - accuracy: 0.7906 - val_loss: 0.4529 - val_accuracy: 0.7908\n",
      "Epoch 15/100\n",
      "313/313 [==============================] - 20s 64ms/step - loss: 0.4490 - accuracy: 0.7938 - val_loss: 0.4505 - val_accuracy: 0.7922\n",
      "Epoch 16/100\n",
      "313/313 [==============================] - 20s 63ms/step - loss: 0.4467 - accuracy: 0.7936 - val_loss: 0.4495 - val_accuracy: 0.7874\n",
      "Epoch 17/100\n",
      "313/313 [==============================] - 19s 62ms/step - loss: 0.4463 - accuracy: 0.7940 - val_loss: 0.4499 - val_accuracy: 0.7912\n",
      "Epoch 18/100\n",
      "313/313 [==============================] - 19s 62ms/step - loss: 0.4433 - accuracy: 0.7977 - val_loss: 0.4455 - val_accuracy: 0.7936\n",
      "Epoch 19/100\n",
      "313/313 [==============================] - 19s 61ms/step - loss: 0.4404 - accuracy: 0.7988 - val_loss: 0.4457 - val_accuracy: 0.7944\n",
      "Epoch 20/100\n",
      "313/313 [==============================] - 19s 61ms/step - loss: 0.4378 - accuracy: 0.7992 - val_loss: 0.4432 - val_accuracy: 0.7954\n",
      "Epoch 21/100\n",
      "313/313 [==============================] - 19s 61ms/step - loss: 0.4372 - accuracy: 0.8009 - val_loss: 0.4434 - val_accuracy: 0.7920\n",
      "Epoch 22/100\n",
      "313/313 [==============================] - 19s 61ms/step - loss: 0.4354 - accuracy: 0.8012 - val_loss: 0.4430 - val_accuracy: 0.7952\n",
      "Epoch 23/100\n",
      "313/313 [==============================] - 19s 61ms/step - loss: 0.4334 - accuracy: 0.8015 - val_loss: 0.4401 - val_accuracy: 0.7976\n",
      "Epoch 24/100\n",
      "313/313 [==============================] - 19s 62ms/step - loss: 0.4325 - accuracy: 0.8011 - val_loss: 0.4426 - val_accuracy: 0.7946\n",
      "Epoch 25/100\n",
      "313/313 [==============================] - 19s 61ms/step - loss: 0.4321 - accuracy: 0.8021 - val_loss: 0.4410 - val_accuracy: 0.7914\n",
      "Epoch 26/100\n",
      "313/313 [==============================] - 19s 61ms/step - loss: 0.4294 - accuracy: 0.8016 - val_loss: 0.4371 - val_accuracy: 0.7986\n",
      "Epoch 27/100\n",
      "313/313 [==============================] - 19s 62ms/step - loss: 0.4272 - accuracy: 0.8047 - val_loss: 0.4360 - val_accuracy: 0.7990\n",
      "Epoch 28/100\n",
      "313/313 [==============================] - 19s 62ms/step - loss: 0.4285 - accuracy: 0.8039 - val_loss: 0.4368 - val_accuracy: 0.8000\n",
      "Epoch 29/100\n",
      "313/313 [==============================] - 19s 62ms/step - loss: 0.4249 - accuracy: 0.8038 - val_loss: 0.4366 - val_accuracy: 0.7952\n",
      "Epoch 30/100\n",
      "313/313 [==============================] - 19s 62ms/step - loss: 0.4251 - accuracy: 0.8068 - val_loss: 0.4355 - val_accuracy: 0.7996\n",
      "Epoch 31/100\n",
      "313/313 [==============================] - 19s 62ms/step - loss: 0.4239 - accuracy: 0.8068 - val_loss: 0.4337 - val_accuracy: 0.7974\n",
      "Epoch 32/100\n",
      "313/313 [==============================] - 19s 62ms/step - loss: 0.4204 - accuracy: 0.8076 - val_loss: 0.4447 - val_accuracy: 0.7844\n",
      "Epoch 33/100\n",
      "313/313 [==============================] - 20s 63ms/step - loss: 0.4213 - accuracy: 0.8070 - val_loss: 0.4324 - val_accuracy: 0.8010\n",
      "Epoch 34/100\n",
      "313/313 [==============================] - 19s 62ms/step - loss: 0.4202 - accuracy: 0.8084 - val_loss: 0.4313 - val_accuracy: 0.7998\n",
      "Epoch 35/100\n",
      "313/313 [==============================] - 20s 62ms/step - loss: 0.4201 - accuracy: 0.8082 - val_loss: 0.4307 - val_accuracy: 0.8008\n",
      "Epoch 36/100\n",
      "313/313 [==============================] - 19s 62ms/step - loss: 0.4206 - accuracy: 0.8068 - val_loss: 0.4406 - val_accuracy: 0.7884\n",
      "Epoch 37/100\n",
      "313/313 [==============================] - 20s 65ms/step - loss: 0.4188 - accuracy: 0.8105 - val_loss: 0.4303 - val_accuracy: 0.8036\n",
      "Epoch 38/100\n",
      "313/313 [==============================] - 20s 64ms/step - loss: 0.4197 - accuracy: 0.8090 - val_loss: 0.4293 - val_accuracy: 0.8014\n",
      "Epoch 39/100\n",
      "313/313 [==============================] - 20s 64ms/step - loss: 0.4164 - accuracy: 0.8108 - val_loss: 0.4286 - val_accuracy: 0.8034\n",
      "Epoch 40/100\n",
      "313/313 [==============================] - 21s 66ms/step - loss: 0.4162 - accuracy: 0.8109 - val_loss: 0.4303 - val_accuracy: 0.8056\n",
      "Epoch 41/100\n",
      "313/313 [==============================] - 21s 66ms/step - loss: 0.4165 - accuracy: 0.8117 - val_loss: 0.4290 - val_accuracy: 0.8056\n",
      "Epoch 42/100\n",
      "313/313 [==============================] - 20s 64ms/step - loss: 0.4138 - accuracy: 0.8119 - val_loss: 0.4393 - val_accuracy: 0.7960\n"
     ]
    }
   ],
   "source": [
    "rmsprop = keras.optimizers.RMSprop(learning_rate=1e-4)\n",
    "model3.compile(optimizer=rmsprop, loss='binary_crossentropy', metrics=['accuracy'])\n",
    "checkpoint_cb = keras.callbacks.ModelCheckpoint('best-2rnn-model.h5', save_best_only=True)\n",
    "early_stopping_cb = keras.callbacks.EarlyStopping(patience=3, restore_best_weights=True)\n",
    "history = model3.fit(train_seq, train_target, epochs=100, batch_size=64, validation_data=(val_seq, val_target), callbacks=[checkpoint_cb, early_stopping_cb])"
   ],
   "metadata": {
    "collapsed": false
   }
  },
  {
   "cell_type": "code",
   "execution_count": 15,
   "outputs": [
    {
     "data": {
      "text/plain": "<Figure size 640x480 with 1 Axes>",
      "image/png": "[encoded data removed]"
     },
     "metadata": {},
     "output_type": "display_data"
    }
   ],
   "source": [
    "plt.plot(history.history['loss'])\n",
    "plt.plot(history.history['val_loss'])\n",
    "plt.xlabel('epoch')\n",
    "plt.ylabel('loss')\n",
    "plt.legend(['train', 'val'])\n",
    "plt.show()"
   ],
   "metadata": {
    "collapsed": false
   }
  },
  {
   "cell_type": "code",
   "execution_count": 17,
   "outputs": [],
   "source": [
    "model4 = keras.Sequential()\n",
    "model4.add(keras.layers.Embedding(500, 16, input_length=100))\n",
    "model4.add(keras.layers.GRU(8))\n",
    "model4.add(keras.layers.Dense(1, activation='sigmoid'))"
   ],
   "metadata": {
    "collapsed": false
   }
  },
  {
   "cell_type": "code",
   "execution_count": 18,
   "outputs": [
    {
     "name": "stdout",
     "output_type": "stream",
     "text": [
      "Model: \"sequential_4\"\n",
      "_________________________________________________________________\n",
      " Layer (type)                Output Shape              Param #   \n",
      "=================================================================\n",
      " embedding_3 (Embedding)     (None, 100, 16)           8000      \n",
      "                                                                 \n",
      " gru (GRU)                   (None, 8)                 624       \n",
      "                                                                 \n",
      " dense_3 (Dense)             (None, 1)                 9         \n",
      "                                                                 \n",
      "=================================================================\n",
      "Total params: 8,633\n",
      "Trainable params: 8,633\n",
      "Non-trainable params: 0\n",
      "_________________________________________________________________\n"
     ]
    }
   ],
   "source": [
    "model4.summary()"
   ],
   "metadata": {
    "collapsed": false
   }
  },
  {
   "cell_type": "code",
   "execution_count": 19,
   "outputs": [
    {
     "name": "stdout",
     "output_type": "stream",
     "text": [
      "Epoch 1/100\n"
     ]
    },
    {
     "name": "stderr",
     "output_type": "stream",
     "text": [
      "2023-02-02 15:03:21.361131: I tensorflow/core/grappler/optimizers/custom_graph_optimizer_registry.cc:114] Plugin optimizer for device_type GPU is enabled.\n",
      "2023-02-02 15:03:21.515781: I tensorflow/core/grappler/optimizers/custom_graph_optimizer_registry.cc:114] Plugin optimizer for device_type GPU is enabled.\n",
      "2023-02-02 15:03:22.229416: I tensorflow/core/grappler/optimizers/custom_graph_optimizer_registry.cc:114] Plugin optimizer for device_type GPU is enabled.\n"
     ]
    },
    {
     "name": "stdout",
     "output_type": "stream",
     "text": [
      "313/313 [==============================] - ETA: 0s - loss: 0.6930 - accuracy: 0.5110"
     ]
    },
    {
     "name": "stderr",
     "output_type": "stream",
     "text": [
      "2023-02-02 15:03:35.604932: I tensorflow/core/grappler/optimizers/custom_graph_optimizer_registry.cc:114] Plugin optimizer for device_type GPU is enabled.\n",
      "2023-02-02 15:03:35.656155: I tensorflow/core/grappler/optimizers/custom_graph_optimizer_registry.cc:114] Plugin optimizer for device_type GPU is enabled.\n"
     ]
    },
    {
     "name": "stdout",
     "output_type": "stream",
     "text": [
      "313/313 [==============================] - 17s 45ms/step - loss: 0.6930 - accuracy: 0.5110 - val_loss: 0.6926 - val_accuracy: 0.5268\n",
      "Epoch 2/100\n",
      "313/313 [==============================] - 12s 37ms/step - loss: 0.6926 - accuracy: 0.5262 - val_loss: 0.6922 - val_accuracy: 0.5510\n",
      "Epoch 3/100\n",
      "313/313 [==============================] - 11s 36ms/step - loss: 0.6922 - accuracy: 0.5393 - val_loss: 0.6916 - val_accuracy: 0.5586\n",
      "Epoch 4/100\n",
      "313/313 [==============================] - 11s 36ms/step - loss: 0.6916 - accuracy: 0.5459 - val_loss: 0.6908 - val_accuracy: 0.5692\n",
      "Epoch 5/100\n",
      "313/313 [==============================] - 12s 37ms/step - loss: 0.6907 - accuracy: 0.5575 - val_loss: 0.6897 - val_accuracy: 0.5760\n",
      "Epoch 6/100\n",
      "313/313 [==============================] - 11s 35ms/step - loss: 0.6893 - accuracy: 0.5657 - val_loss: 0.6878 - val_accuracy: 0.5806\n",
      "Epoch 7/100\n",
      "313/313 [==============================] - 11s 36ms/step - loss: 0.6870 - accuracy: 0.5772 - val_loss: 0.6850 - val_accuracy: 0.5874\n",
      "Epoch 8/100\n",
      "313/313 [==============================] - 11s 35ms/step - loss: 0.6834 - accuracy: 0.5847 - val_loss: 0.6804 - val_accuracy: 0.5972\n",
      "Epoch 9/100\n",
      "313/313 [==============================] - 11s 36ms/step - loss: 0.6771 - accuracy: 0.5972 - val_loss: 0.6725 - val_accuracy: 0.6090\n",
      "Epoch 10/100\n",
      "313/313 [==============================] - 11s 36ms/step - loss: 0.6663 - accuracy: 0.6095 - val_loss: 0.6586 - val_accuracy: 0.6252\n",
      "Epoch 11/100\n",
      "313/313 [==============================] - 11s 36ms/step - loss: 0.6463 - accuracy: 0.6326 - val_loss: 0.6348 - val_accuracy: 0.6472\n",
      "Epoch 12/100\n",
      "313/313 [==============================] - 11s 36ms/step - loss: 0.6138 - accuracy: 0.6667 - val_loss: 0.6018 - val_accuracy: 0.6820\n",
      "Epoch 13/100\n",
      "313/313 [==============================] - 11s 36ms/step - loss: 0.5781 - accuracy: 0.7032 - val_loss: 0.5703 - val_accuracy: 0.7072\n",
      "Epoch 14/100\n",
      "313/313 [==============================] - 11s 36ms/step - loss: 0.5495 - accuracy: 0.7276 - val_loss: 0.5457 - val_accuracy: 0.7320\n",
      "Epoch 15/100\n",
      "313/313 [==============================] - 11s 36ms/step - loss: 0.5281 - accuracy: 0.7471 - val_loss: 0.5289 - val_accuracy: 0.7448\n",
      "Epoch 16/100\n",
      "313/313 [==============================] - 12s 37ms/step - loss: 0.5128 - accuracy: 0.7602 - val_loss: 0.5159 - val_accuracy: 0.7536\n",
      "Epoch 17/100\n",
      "313/313 [==============================] - 15s 47ms/step - loss: 0.5005 - accuracy: 0.7667 - val_loss: 0.5053 - val_accuracy: 0.7580\n",
      "Epoch 18/100\n",
      "313/313 [==============================] - 12s 39ms/step - loss: 0.4902 - accuracy: 0.7756 - val_loss: 0.4966 - val_accuracy: 0.7614\n",
      "Epoch 19/100\n",
      "313/313 [==============================] - 15s 47ms/step - loss: 0.4815 - accuracy: 0.7793 - val_loss: 0.4886 - val_accuracy: 0.7692\n",
      "Epoch 20/100\n",
      "313/313 [==============================] - 11s 37ms/step - loss: 0.4729 - accuracy: 0.7864 - val_loss: 0.4816 - val_accuracy: 0.7764\n",
      "Epoch 21/100\n",
      "313/313 [==============================] - 11s 36ms/step - loss: 0.4658 - accuracy: 0.7905 - val_loss: 0.4760 - val_accuracy: 0.7798\n",
      "Epoch 22/100\n",
      "313/313 [==============================] - 12s 37ms/step - loss: 0.4606 - accuracy: 0.7940 - val_loss: 0.4739 - val_accuracy: 0.7776\n",
      "Epoch 23/100\n",
      "313/313 [==============================] - 12s 38ms/step - loss: 0.4563 - accuracy: 0.7964 - val_loss: 0.4736 - val_accuracy: 0.7774\n",
      "Epoch 24/100\n",
      "313/313 [==============================] - 11s 36ms/step - loss: 0.4525 - accuracy: 0.7973 - val_loss: 0.4687 - val_accuracy: 0.7830\n",
      "Epoch 25/100\n",
      "313/313 [==============================] - 12s 39ms/step - loss: 0.4493 - accuracy: 0.7990 - val_loss: 0.4639 - val_accuracy: 0.7854\n",
      "Epoch 26/100\n",
      "313/313 [==============================] - 12s 37ms/step - loss: 0.4461 - accuracy: 0.7999 - val_loss: 0.4643 - val_accuracy: 0.7858\n",
      "Epoch 27/100\n",
      "313/313 [==============================] - 12s 37ms/step - loss: 0.4438 - accuracy: 0.8010 - val_loss: 0.4614 - val_accuracy: 0.7864\n",
      "Epoch 28/100\n",
      "313/313 [==============================] - 11s 36ms/step - loss: 0.4415 - accuracy: 0.8027 - val_loss: 0.4607 - val_accuracy: 0.7876\n",
      "Epoch 29/100\n",
      "313/313 [==============================] - 11s 37ms/step - loss: 0.4392 - accuracy: 0.8043 - val_loss: 0.4586 - val_accuracy: 0.7878\n",
      "Epoch 30/100\n",
      "313/313 [==============================] - 11s 36ms/step - loss: 0.4376 - accuracy: 0.8043 - val_loss: 0.4584 - val_accuracy: 0.7892\n",
      "Epoch 31/100\n",
      "313/313 [==============================] - 11s 36ms/step - loss: 0.4355 - accuracy: 0.8073 - val_loss: 0.4569 - val_accuracy: 0.7876\n",
      "Epoch 32/100\n",
      "313/313 [==============================] - 11s 36ms/step - loss: 0.4343 - accuracy: 0.8075 - val_loss: 0.4567 - val_accuracy: 0.7880\n",
      "Epoch 33/100\n",
      "313/313 [==============================] - 11s 36ms/step - loss: 0.4330 - accuracy: 0.8083 - val_loss: 0.4545 - val_accuracy: 0.7906\n",
      "Epoch 34/100\n",
      "313/313 [==============================] - 11s 36ms/step - loss: 0.4316 - accuracy: 0.8082 - val_loss: 0.4540 - val_accuracy: 0.7906\n",
      "Epoch 35/100\n",
      "313/313 [==============================] - 11s 36ms/step - loss: 0.4305 - accuracy: 0.8096 - val_loss: 0.4553 - val_accuracy: 0.7864\n",
      "Epoch 36/100\n",
      "313/313 [==============================] - 11s 36ms/step - loss: 0.4294 - accuracy: 0.8090 - val_loss: 0.4537 - val_accuracy: 0.7888\n",
      "Epoch 37/100\n",
      "313/313 [==============================] - 11s 36ms/step - loss: 0.4286 - accuracy: 0.8102 - val_loss: 0.4530 - val_accuracy: 0.7888\n",
      "Epoch 38/100\n",
      "313/313 [==============================] - 11s 36ms/step - loss: 0.4275 - accuracy: 0.8101 - val_loss: 0.4529 - val_accuracy: 0.7866\n",
      "Epoch 39/100\n",
      "313/313 [==============================] - 11s 37ms/step - loss: 0.4268 - accuracy: 0.8105 - val_loss: 0.4517 - val_accuracy: 0.7908\n",
      "Epoch 40/100\n",
      "313/313 [==============================] - 11s 36ms/step - loss: 0.4260 - accuracy: 0.8105 - val_loss: 0.4515 - val_accuracy: 0.7886\n",
      "Epoch 41/100\n",
      "313/313 [==============================] - 11s 37ms/step - loss: 0.4252 - accuracy: 0.8112 - val_loss: 0.4504 - val_accuracy: 0.7918\n",
      "Epoch 42/100\n",
      "313/313 [==============================] - 12s 39ms/step - loss: 0.4248 - accuracy: 0.8111 - val_loss: 0.4502 - val_accuracy: 0.7900\n",
      "Epoch 43/100\n",
      "313/313 [==============================] - 12s 38ms/step - loss: 0.4239 - accuracy: 0.8118 - val_loss: 0.4512 - val_accuracy: 0.7870\n",
      "Epoch 44/100\n",
      "313/313 [==============================] - 12s 37ms/step - loss: 0.4235 - accuracy: 0.8126 - val_loss: 0.4490 - val_accuracy: 0.7914\n",
      "Epoch 45/100\n",
      "313/313 [==============================] - 12s 37ms/step - loss: 0.4229 - accuracy: 0.8121 - val_loss: 0.4488 - val_accuracy: 0.7910\n",
      "Epoch 46/100\n",
      "313/313 [==============================] - 12s 37ms/step - loss: 0.4221 - accuracy: 0.8122 - val_loss: 0.4501 - val_accuracy: 0.7892\n",
      "Epoch 47/100\n",
      "313/313 [==============================] - 12s 37ms/step - loss: 0.4220 - accuracy: 0.8120 - val_loss: 0.4483 - val_accuracy: 0.7918\n",
      "Epoch 48/100\n",
      "313/313 [==============================] - 11s 37ms/step - loss: 0.4212 - accuracy: 0.8125 - val_loss: 0.4475 - val_accuracy: 0.7914\n",
      "Epoch 49/100\n",
      "313/313 [==============================] - 11s 37ms/step - loss: 0.4207 - accuracy: 0.8131 - val_loss: 0.4481 - val_accuracy: 0.7926\n",
      "Epoch 50/100\n",
      "313/313 [==============================] - 11s 37ms/step - loss: 0.4206 - accuracy: 0.8118 - val_loss: 0.4507 - val_accuracy: 0.7928\n",
      "Epoch 51/100\n",
      "313/313 [==============================] - 12s 37ms/step - loss: 0.4204 - accuracy: 0.8137 - val_loss: 0.4476 - val_accuracy: 0.7898\n"
     ]
    }
   ],
   "source": [
    "rmsprop = keras.optimizers.RMSprop(learning_rate=1e-4)\n",
    "model4.compile(optimizer=rmsprop, loss='binary_crossentropy', metrics=['accuracy'])\n",
    "checkpoint_cb = keras.callbacks.ModelCheckpoint('best-gru-model.h5', save_best_only=True)\n",
    "early_stopping_cb = keras.callbacks.EarlyStopping(patience=3, restore_best_weights=True)\n",
    "history = model4.fit(train_seq, train_target, epochs=100, batch_size=64, validation_data=(val_seq, val_target), callbacks=[checkpoint_cb, early_stopping_cb])"
   ],
   "metadata": {
    "collapsed": false
   }
  },
  {
   "cell_type": "code",
   "execution_count": 20,
   "outputs": [
    {
     "data": {
      "text/plain": "<Figure size 640x480 with 1 Axes>",
      "image/png": "[encoded data removed]"
     },
     "metadata": {},
     "output_type": "display_data"
    }
   ],
   "source": [
    "plt.plot(history.history['loss'])\n",
    "plt.plot(history.history['val_loss'])\n",
    "plt.xlabel('epoch')\n",
    "plt.ylabel('loss')\n",
    "plt.legend(['train', 'val'])\n",
    "plt.show()"
   ],
   "metadata": {
    "collapsed": false
   }
  },
  {
   "cell_type": "code",
   "execution_count": null,
   "outputs": [],
   "source": [],
   "metadata": {
    "collapsed": false
   }
  }
 ],
 "metadata": {
  "kernelspec": {
   "display_name": "Python 3",
   "language": "python",
   "name": "python3"
  },
  "language_info": {
   "codemirror_mode": {
    "name": "ipython",
    "version": 2
   },
   "file_extension": ".py",
   "mimetype": "text/x-python",
   "name": "python",
   "nbconvert_exporter": "python",
   "pygments_lexer": "ipython2",
   "version": "2.7.6"
  }
 },
 "nbformat": 4,
 "nbformat_minor": 0
}
